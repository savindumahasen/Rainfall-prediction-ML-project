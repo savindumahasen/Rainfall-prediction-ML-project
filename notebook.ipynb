{
 "cells": [
  {
   "cell_type": "code",
   "execution_count": 79,
   "metadata": {},
   "outputs": [
    {
     "data": {
      "text/html": [
       "\n",
       "            <div>\n",
       "                <p><b>SparkSession - in-memory</b></p>\n",
       "                \n",
       "        <div>\n",
       "            <p><b>SparkContext</b></p>\n",
       "\n",
       "            <p><a href=\"http://host.docker.internal:4040\">Spark UI</a></p>\n",
       "\n",
       "            <dl>\n",
       "              <dt>Version</dt>\n",
       "                <dd><code>v3.5.5</code></dd>\n",
       "              <dt>Master</dt>\n",
       "                <dd><code>local[*]</code></dd>\n",
       "              <dt>AppName</dt>\n",
       "                <dd><code>Rainfall-predictions-ML-project</code></dd>\n",
       "            </dl>\n",
       "        </div>\n",
       "        \n",
       "            </div>\n",
       "        "
      ],
      "text/plain": [
       "<pyspark.sql.session.SparkSession at 0x1d673d6e4b0>"
      ]
     },
     "execution_count": 79,
     "metadata": {},
     "output_type": "execute_result"
    }
   ],
   "source": [
    "## Import the  pyspark libraries adn create the pyspark session\n",
    "import pyspark\n",
    "from pyspark.sql import SparkSession\n",
    "spark=SparkSession.builder.appName('Rainfall-predictions-ML-project').getOrCreate()\n",
    "spark\n"
   ]
  },
  {
   "cell_type": "code",
   "execution_count": 80,
   "metadata": {},
   "outputs": [
    {
     "name": "stdout",
     "output_type": "stream",
     "text": [
      "+---+---+--------+-------+-----------+-------+--------+--------+-----+--------+-------------+---------+--------+\n",
      "| id|day|pressure|maxtemp|temparature|mintemp|dewpoint|humidity|cloud|sunshine|winddirection|windspeed|rainfall|\n",
      "+---+---+--------+-------+-----------+-------+--------+--------+-----+--------+-------------+---------+--------+\n",
      "|  0|  1|  1017.4|   21.2|       20.6|   19.9|    19.4|    87.0| 88.0|     1.1|         60.0|     17.2|       1|\n",
      "|  1|  2|  1019.5|   16.2|       16.9|   15.8|    15.4|    95.0| 91.0|     0.0|         50.0|     21.9|       1|\n",
      "|  2|  3|  1024.1|   19.4|       16.1|   14.6|     9.3|    75.0| 47.0|     8.3|         70.0|     18.1|       1|\n",
      "|  3|  4|  1013.4|   18.1|       17.8|   16.9|    16.8|    95.0| 95.0|     0.0|         60.0|     35.6|       1|\n",
      "|  4|  5|  1021.8|   21.3|       18.4|   15.2|     9.6|    52.0| 45.0|     3.6|         40.0|     24.8|       0|\n",
      "|  5|  6|  1022.7|   20.6|       18.6|   16.5|    12.5|    79.0| 81.0|     0.0|         20.0|     15.7|       1|\n",
      "|  6|  7|  1022.8|   19.5|       18.4|   15.3|    11.3|    56.0| 46.0|     7.6|         20.0|     28.4|       0|\n",
      "|  7|  8|  1019.7|   15.8|       13.6|   12.7|    11.8|    96.0|100.0|     0.0|         50.0|     52.8|       1|\n",
      "|  8|  9|  1017.4|   17.6|       16.5|   15.6|    12.5|    86.0|100.0|     0.0|         50.0|     37.5|       1|\n",
      "|  9| 10|  1025.4|   16.5|       14.4|   12.0|     8.6|    77.0| 84.0|     1.0|         50.0|     38.3|       0|\n",
      "| 10| 11|  1016.8|   16.3|       15.3|   14.1|    14.0|    97.0|100.0|     0.0|         40.0|     24.4|       1|\n",
      "| 11| 12|  1012.5|   16.2|       15.2|   14.0|    12.4|    98.0|100.0|     0.0|         50.0|     23.5|       1|\n",
      "| 12| 13|  1020.4|   15.0|       15.5|   13.2|    12.0|    77.0| 86.0|     0.0|         50.0|     32.4|       1|\n",
      "| 13| 14|  1012.5|   13.5|       12.9|   11.6|    11.8|    87.0| 92.0|     0.0|         50.0|     37.0|       1|\n",
      "| 14| 15|  1018.4|   17.8|       16.5|   15.1|    12.1|    77.0| 85.0|     1.2|         40.0|     20.9|       1|\n",
      "| 15| 16|  1024.3|   15.3|       12.9|   10.0|    11.2|    79.0| 91.0|     0.3|         20.0|     20.0|       1|\n",
      "| 16| 17|  1022.5|   16.3|       13.1|   11.4|     2.0|    79.0| 70.0|     6.8|         20.0|     30.3|       1|\n",
      "| 17| 18|  1034.6|   17.5|       16.2|   14.1|    11.8|    68.0| 60.0|     2.5|         50.0|     13.4|       0|\n",
      "| 18| 19|  1024.1|   16.8|       15.8|   14.0|    12.9|    76.0| 77.0|     0.0|         20.0|     20.5|       1|\n",
      "| 19| 20|  1020.2|   16.4|       14.2|   12.7|    11.6|    75.0| 93.0|     0.1|         40.0|     21.9|       1|\n",
      "+---+---+--------+-------+-----------+-------+--------+--------+-----+--------+-------------+---------+--------+\n",
      "only showing top 20 rows\n",
      "\n"
     ]
    }
   ],
   "source": [
    "## Read the train set\n",
    "df_train_set=spark.read.csv('train.csv',header=True,inferSchema=True)\n",
    "df_train_set.show()"
   ]
  },
  {
   "cell_type": "code",
   "execution_count": 81,
   "metadata": {},
   "outputs": [
    {
     "name": "stdout",
     "output_type": "stream",
     "text": [
      "root\n",
      " |-- id: integer (nullable = true)\n",
      " |-- day: integer (nullable = true)\n",
      " |-- pressure: double (nullable = true)\n",
      " |-- maxtemp: double (nullable = true)\n",
      " |-- temparature: double (nullable = true)\n",
      " |-- mintemp: double (nullable = true)\n",
      " |-- dewpoint: double (nullable = true)\n",
      " |-- humidity: double (nullable = true)\n",
      " |-- cloud: double (nullable = true)\n",
      " |-- sunshine: double (nullable = true)\n",
      " |-- winddirection: double (nullable = true)\n",
      " |-- windspeed: double (nullable = true)\n",
      " |-- rainfall: integer (nullable = true)\n",
      "\n"
     ]
    }
   ],
   "source": [
    "## check the data types of each column in dataset\n",
    "df_train_set.printSchema()"
   ]
  },
  {
   "cell_type": "code",
   "execution_count": 82,
   "metadata": {},
   "outputs": [
    {
     "data": {
      "text/plain": [
       "['id',\n",
       " 'day',\n",
       " 'pressure',\n",
       " 'maxtemp',\n",
       " 'temparature',\n",
       " 'mintemp',\n",
       " 'dewpoint',\n",
       " 'humidity',\n",
       " 'cloud',\n",
       " 'sunshine',\n",
       " 'winddirection',\n",
       " 'windspeed',\n",
       " 'rainfall']"
      ]
     },
     "execution_count": 82,
     "metadata": {},
     "output_type": "execute_result"
    }
   ],
   "source": [
    "## check the column names\n",
    "df_train_set.columns"
   ]
  },
  {
   "cell_type": "markdown",
   "metadata": {},
   "source": [
    "## Data Preprocessing"
   ]
  },
  {
   "cell_type": "code",
   "execution_count": 83,
   "metadata": {},
   "outputs": [
    {
     "name": "stdout",
     "output_type": "stream",
     "text": [
      "+---+---+--------+-------+-----------+-------+--------+--------+-----+--------+-------------+---------+--------+\n",
      "| id|day|pressure|maxtemp|temparature|mintemp|dewpoint|humidity|cloud|sunshine|winddirection|windspeed|rainfall|\n",
      "+---+---+--------+-------+-----------+-------+--------+--------+-----+--------+-------------+---------+--------+\n",
      "|  0|  0|       0|      0|          0|      0|       0|       0|    0|       0|            0|        0|       0|\n",
      "+---+---+--------+-------+-----------+-------+--------+--------+-----+--------+-------------+---------+--------+\n",
      "\n"
     ]
    }
   ],
   "source": [
    "## chech the null values\n",
    "from pyspark.sql.functions import col,isnan, when, count\n",
    "df_train_set.select([count(when(isnan(c) | col(c).isNull(), c)).alias(c) for c in df_train_set.columns]\n",
    "   ).show()\n"
   ]
  },
  {
   "cell_type": "code",
   "execution_count": 84,
   "metadata": {},
   "outputs": [
    {
     "name": "stdout",
     "output_type": "stream",
     "text": [
      "+--------+-------+-----------+-------+--------+--------+-----+--------+-------------+---------+--------+\n",
      "|pressure|maxtemp|temparature|mintemp|dewpoint|humidity|cloud|sunshine|winddirection|windspeed|rainfall|\n",
      "+--------+-------+-----------+-------+--------+--------+-----+--------+-------------+---------+--------+\n",
      "|  1017.4|   21.2|       20.6|   19.9|    19.4|    87.0| 88.0|     1.1|         60.0|     17.2|       1|\n",
      "|  1019.5|   16.2|       16.9|   15.8|    15.4|    95.0| 91.0|     0.0|         50.0|     21.9|       1|\n",
      "|  1024.1|   19.4|       16.1|   14.6|     9.3|    75.0| 47.0|     8.3|         70.0|     18.1|       1|\n",
      "|  1013.4|   18.1|       17.8|   16.9|    16.8|    95.0| 95.0|     0.0|         60.0|     35.6|       1|\n",
      "|  1021.8|   21.3|       18.4|   15.2|     9.6|    52.0| 45.0|     3.6|         40.0|     24.8|       0|\n",
      "|  1022.7|   20.6|       18.6|   16.5|    12.5|    79.0| 81.0|     0.0|         20.0|     15.7|       1|\n",
      "|  1022.8|   19.5|       18.4|   15.3|    11.3|    56.0| 46.0|     7.6|         20.0|     28.4|       0|\n",
      "|  1019.7|   15.8|       13.6|   12.7|    11.8|    96.0|100.0|     0.0|         50.0|     52.8|       1|\n",
      "|  1017.4|   17.6|       16.5|   15.6|    12.5|    86.0|100.0|     0.0|         50.0|     37.5|       1|\n",
      "|  1025.4|   16.5|       14.4|   12.0|     8.6|    77.0| 84.0|     1.0|         50.0|     38.3|       0|\n",
      "|  1016.8|   16.3|       15.3|   14.1|    14.0|    97.0|100.0|     0.0|         40.0|     24.4|       1|\n",
      "|  1012.5|   16.2|       15.2|   14.0|    12.4|    98.0|100.0|     0.0|         50.0|     23.5|       1|\n",
      "|  1020.4|   15.0|       15.5|   13.2|    12.0|    77.0| 86.0|     0.0|         50.0|     32.4|       1|\n",
      "|  1012.5|   13.5|       12.9|   11.6|    11.8|    87.0| 92.0|     0.0|         50.0|     37.0|       1|\n",
      "|  1018.4|   17.8|       16.5|   15.1|    12.1|    77.0| 85.0|     1.2|         40.0|     20.9|       1|\n",
      "|  1024.3|   15.3|       12.9|   10.0|    11.2|    79.0| 91.0|     0.3|         20.0|     20.0|       1|\n",
      "|  1022.5|   16.3|       13.1|   11.4|     2.0|    79.0| 70.0|     6.8|         20.0|     30.3|       1|\n",
      "|  1034.6|   17.5|       16.2|   14.1|    11.8|    68.0| 60.0|     2.5|         50.0|     13.4|       0|\n",
      "|  1024.1|   16.8|       15.8|   14.0|    12.9|    76.0| 77.0|     0.0|         20.0|     20.5|       1|\n",
      "|  1020.2|   16.4|       14.2|   12.7|    11.6|    75.0| 93.0|     0.1|         40.0|     21.9|       1|\n",
      "+--------+-------+-----------+-------+--------+--------+-----+--------+-------------+---------+--------+\n",
      "only showing top 20 rows\n",
      "\n"
     ]
    }
   ],
   "source": [
    "df_train_set=df_train_set.select(['pressure','maxtemp','temparature','mintemp','dewpoint','humidity','cloud','sunshine','winddirection','windspeed','rainfall'])\n",
    "df_train_set.show()"
   ]
  },
  {
   "cell_type": "code",
   "execution_count": 85,
   "metadata": {},
   "outputs": [],
   "source": [
    "## seperate the independent features and target lables\n",
    "#independent_features=df_train_set.select(['id','day','pressure','maxtemp','temparature','mintemp','dewpoint','humidity','cloud','sunshine','winddirection','windspeed'])\n",
    "#target_feature=df_train_set.select(['rainfall'])\n",
    "#independent_features.show(),target_feature.show()"
   ]
  },
  {
   "cell_type": "code",
   "execution_count": 86,
   "metadata": {},
   "outputs": [
    {
     "name": "stdout",
     "output_type": "stream",
     "text": [
      "+--------+-------+-----------+-------+--------+--------+-----+--------+-------------+---------+--------+--------------------+\n",
      "|pressure|maxtemp|temparature|mintemp|dewpoint|humidity|cloud|sunshine|winddirection|windspeed|rainfall|independent_features|\n",
      "+--------+-------+-----------+-------+--------+--------+-----+--------+-------------+---------+--------+--------------------+\n",
      "|  1017.4|   21.2|       20.6|   19.9|    19.4|    87.0| 88.0|     1.1|         60.0|     17.2|       1|[1017.4,21.2,20.6...|\n",
      "|  1019.5|   16.2|       16.9|   15.8|    15.4|    95.0| 91.0|     0.0|         50.0|     21.9|       1|[1019.5,16.2,16.9...|\n",
      "|  1024.1|   19.4|       16.1|   14.6|     9.3|    75.0| 47.0|     8.3|         70.0|     18.1|       1|[1024.1,19.4,16.1...|\n",
      "|  1013.4|   18.1|       17.8|   16.9|    16.8|    95.0| 95.0|     0.0|         60.0|     35.6|       1|[1013.4,18.1,17.8...|\n",
      "|  1021.8|   21.3|       18.4|   15.2|     9.6|    52.0| 45.0|     3.6|         40.0|     24.8|       0|[1021.8,21.3,18.4...|\n",
      "|  1022.7|   20.6|       18.6|   16.5|    12.5|    79.0| 81.0|     0.0|         20.0|     15.7|       1|[1022.7,20.6,18.6...|\n",
      "|  1022.8|   19.5|       18.4|   15.3|    11.3|    56.0| 46.0|     7.6|         20.0|     28.4|       0|[1022.8,19.5,18.4...|\n",
      "|  1019.7|   15.8|       13.6|   12.7|    11.8|    96.0|100.0|     0.0|         50.0|     52.8|       1|[1019.7,15.8,13.6...|\n",
      "|  1017.4|   17.6|       16.5|   15.6|    12.5|    86.0|100.0|     0.0|         50.0|     37.5|       1|[1017.4,17.6,16.5...|\n",
      "|  1025.4|   16.5|       14.4|   12.0|     8.6|    77.0| 84.0|     1.0|         50.0|     38.3|       0|[1025.4,16.5,14.4...|\n",
      "|  1016.8|   16.3|       15.3|   14.1|    14.0|    97.0|100.0|     0.0|         40.0|     24.4|       1|[1016.8,16.3,15.3...|\n",
      "|  1012.5|   16.2|       15.2|   14.0|    12.4|    98.0|100.0|     0.0|         50.0|     23.5|       1|[1012.5,16.2,15.2...|\n",
      "|  1020.4|   15.0|       15.5|   13.2|    12.0|    77.0| 86.0|     0.0|         50.0|     32.4|       1|[1020.4,15.0,15.5...|\n",
      "|  1012.5|   13.5|       12.9|   11.6|    11.8|    87.0| 92.0|     0.0|         50.0|     37.0|       1|[1012.5,13.5,12.9...|\n",
      "|  1018.4|   17.8|       16.5|   15.1|    12.1|    77.0| 85.0|     1.2|         40.0|     20.9|       1|[1018.4,17.8,16.5...|\n",
      "|  1024.3|   15.3|       12.9|   10.0|    11.2|    79.0| 91.0|     0.3|         20.0|     20.0|       1|[1024.3,15.3,12.9...|\n",
      "|  1022.5|   16.3|       13.1|   11.4|     2.0|    79.0| 70.0|     6.8|         20.0|     30.3|       1|[1022.5,16.3,13.1...|\n",
      "|  1034.6|   17.5|       16.2|   14.1|    11.8|    68.0| 60.0|     2.5|         50.0|     13.4|       0|[1034.6,17.5,16.2...|\n",
      "|  1024.1|   16.8|       15.8|   14.0|    12.9|    76.0| 77.0|     0.0|         20.0|     20.5|       1|[1024.1,16.8,15.8...|\n",
      "|  1020.2|   16.4|       14.2|   12.7|    11.6|    75.0| 93.0|     0.1|         40.0|     21.9|       1|[1020.2,16.4,14.2...|\n",
      "+--------+-------+-----------+-------+--------+--------+-----+--------+-------------+---------+--------+--------------------+\n",
      "only showing top 20 rows\n",
      "\n"
     ]
    }
   ],
   "source": [
    "from pyspark.ml.feature import VectorAssembler\n",
    "feature_assembler = VectorAssembler(inputCols=['pressure','maxtemp','temparature','mintemp','dewpoint','humidity','cloud','sunshine','winddirection','windspeed'],outputCol='independent_features')\n",
    "output_features =feature_assembler.transform(df_train_set)\n",
    "output_features.show()"
   ]
  },
  {
   "cell_type": "code",
   "execution_count": 87,
   "metadata": {},
   "outputs": [
    {
     "name": "stdout",
     "output_type": "stream",
     "text": [
      "+--------------------+\n",
      "|independent_features|\n",
      "+--------------------+\n",
      "|[1017.4,21.2,20.6...|\n",
      "|[1019.5,16.2,16.9...|\n",
      "|[1024.1,19.4,16.1...|\n",
      "|[1013.4,18.1,17.8...|\n",
      "|[1021.8,21.3,18.4...|\n",
      "|[1022.7,20.6,18.6...|\n",
      "|[1022.8,19.5,18.4...|\n",
      "|[1019.7,15.8,13.6...|\n",
      "|[1017.4,17.6,16.5...|\n",
      "|[1025.4,16.5,14.4...|\n",
      "|[1016.8,16.3,15.3...|\n",
      "|[1012.5,16.2,15.2...|\n",
      "|[1020.4,15.0,15.5...|\n",
      "|[1012.5,13.5,12.9...|\n",
      "|[1018.4,17.8,16.5...|\n",
      "|[1024.3,15.3,12.9...|\n",
      "|[1022.5,16.3,13.1...|\n",
      "|[1034.6,17.5,16.2...|\n",
      "|[1024.1,16.8,15.8...|\n",
      "|[1020.2,16.4,14.2...|\n",
      "+--------------------+\n",
      "only showing top 20 rows\n",
      "\n"
     ]
    }
   ],
   "source": [
    "## select the  indepedent features from dataset\n",
    "output_independent_features=output_features.select('independent_features')\n",
    "output_independent_features.show()"
   ]
  },
  {
   "cell_type": "code",
   "execution_count": 88,
   "metadata": {},
   "outputs": [],
   "source": [
    "## scale the dataset usinf standard scaling\n",
    "#from pyspark.ml.feature import StandardScaler\n",
    "#scaler=StandardScaler(inputCol='independent_features', outputCol='scaled_features',withStd=True, withMean=False)\n",
    "#scaler_model=scaler.fit(output_independent_features)\n",
    "#scaled_train_data = scaler_model.transform(output_independent_features)\n",
    "#scaled_train_data.show()"
   ]
  },
  {
   "cell_type": "code",
   "execution_count": 89,
   "metadata": {},
   "outputs": [],
   "source": [
    "#scaled_train_preprocessed_data=scaled_train_data.select('scaled_features')\n",
    "#scaled_train_preprocessed_data.show()"
   ]
  },
  {
   "cell_type": "markdown",
   "metadata": {},
   "source": [
    "## Explotary Data Analysis"
   ]
  },
  {
   "cell_type": "code",
   "execution_count": 90,
   "metadata": {},
   "outputs": [],
   "source": [
    "#scaled_train_preprocessed_data.show()"
   ]
  },
  {
   "cell_type": "code",
   "execution_count": 91,
   "metadata": {},
   "outputs": [],
   "source": [
    "## convert to pandas dataframe\n",
    "#pandas_df=scaled_train_preprocessed_data.toPandas()\n",
    "#pandas_df.head()\n",
    "\n"
   ]
  },
  {
   "cell_type": "code",
   "execution_count": 92,
   "metadata": {},
   "outputs": [],
   "source": [
    "#pandas_df.shape"
   ]
  },
  {
   "cell_type": "code",
   "execution_count": 93,
   "metadata": {},
   "outputs": [
    {
     "data": {
      "text/html": [
       "<div>\n",
       "<style scoped>\n",
       "    .dataframe tbody tr th:only-of-type {\n",
       "        vertical-align: middle;\n",
       "    }\n",
       "\n",
       "    .dataframe tbody tr th {\n",
       "        vertical-align: top;\n",
       "    }\n",
       "\n",
       "    .dataframe thead th {\n",
       "        text-align: right;\n",
       "    }\n",
       "</style>\n",
       "<table border=\"1\" class=\"dataframe\">\n",
       "  <thead>\n",
       "    <tr style=\"text-align: right;\">\n",
       "      <th></th>\n",
       "      <th>pressure</th>\n",
       "      <th>maxtemp</th>\n",
       "      <th>temparature</th>\n",
       "      <th>mintemp</th>\n",
       "      <th>dewpoint</th>\n",
       "      <th>humidity</th>\n",
       "      <th>cloud</th>\n",
       "      <th>sunshine</th>\n",
       "      <th>winddirection</th>\n",
       "      <th>windspeed</th>\n",
       "      <th>rainfall</th>\n",
       "    </tr>\n",
       "  </thead>\n",
       "  <tbody>\n",
       "    <tr>\n",
       "      <th>0</th>\n",
       "      <td>1017.4</td>\n",
       "      <td>21.2</td>\n",
       "      <td>20.6</td>\n",
       "      <td>19.9</td>\n",
       "      <td>19.4</td>\n",
       "      <td>87.0</td>\n",
       "      <td>88.0</td>\n",
       "      <td>1.1</td>\n",
       "      <td>60.0</td>\n",
       "      <td>17.2</td>\n",
       "      <td>1</td>\n",
       "    </tr>\n",
       "    <tr>\n",
       "      <th>1</th>\n",
       "      <td>1019.5</td>\n",
       "      <td>16.2</td>\n",
       "      <td>16.9</td>\n",
       "      <td>15.8</td>\n",
       "      <td>15.4</td>\n",
       "      <td>95.0</td>\n",
       "      <td>91.0</td>\n",
       "      <td>0.0</td>\n",
       "      <td>50.0</td>\n",
       "      <td>21.9</td>\n",
       "      <td>1</td>\n",
       "    </tr>\n",
       "    <tr>\n",
       "      <th>2</th>\n",
       "      <td>1024.1</td>\n",
       "      <td>19.4</td>\n",
       "      <td>16.1</td>\n",
       "      <td>14.6</td>\n",
       "      <td>9.3</td>\n",
       "      <td>75.0</td>\n",
       "      <td>47.0</td>\n",
       "      <td>8.3</td>\n",
       "      <td>70.0</td>\n",
       "      <td>18.1</td>\n",
       "      <td>1</td>\n",
       "    </tr>\n",
       "    <tr>\n",
       "      <th>3</th>\n",
       "      <td>1013.4</td>\n",
       "      <td>18.1</td>\n",
       "      <td>17.8</td>\n",
       "      <td>16.9</td>\n",
       "      <td>16.8</td>\n",
       "      <td>95.0</td>\n",
       "      <td>95.0</td>\n",
       "      <td>0.0</td>\n",
       "      <td>60.0</td>\n",
       "      <td>35.6</td>\n",
       "      <td>1</td>\n",
       "    </tr>\n",
       "    <tr>\n",
       "      <th>4</th>\n",
       "      <td>1021.8</td>\n",
       "      <td>21.3</td>\n",
       "      <td>18.4</td>\n",
       "      <td>15.2</td>\n",
       "      <td>9.6</td>\n",
       "      <td>52.0</td>\n",
       "      <td>45.0</td>\n",
       "      <td>3.6</td>\n",
       "      <td>40.0</td>\n",
       "      <td>24.8</td>\n",
       "      <td>0</td>\n",
       "    </tr>\n",
       "  </tbody>\n",
       "</table>\n",
       "</div>"
      ],
      "text/plain": [
       "   pressure  maxtemp  temparature  mintemp  dewpoint  humidity  cloud  \\\n",
       "0    1017.4     21.2         20.6     19.9      19.4      87.0   88.0   \n",
       "1    1019.5     16.2         16.9     15.8      15.4      95.0   91.0   \n",
       "2    1024.1     19.4         16.1     14.6       9.3      75.0   47.0   \n",
       "3    1013.4     18.1         17.8     16.9      16.8      95.0   95.0   \n",
       "4    1021.8     21.3         18.4     15.2       9.6      52.0   45.0   \n",
       "\n",
       "   sunshine  winddirection  windspeed  rainfall  \n",
       "0       1.1           60.0       17.2         1  \n",
       "1       0.0           50.0       21.9         1  \n",
       "2       8.3           70.0       18.1         1  \n",
       "3       0.0           60.0       35.6         1  \n",
       "4       3.6           40.0       24.8         0  "
      ]
     },
     "execution_count": 93,
     "metadata": {},
     "output_type": "execute_result"
    }
   ],
   "source": [
    "df_train_set_pandas = df_train_set.toPandas()\n",
    "df_train_set_pandas.head()"
   ]
  },
  {
   "cell_type": "code",
   "execution_count": 94,
   "metadata": {},
   "outputs": [
    {
     "data": {
      "text/html": [
       "<div>\n",
       "<style scoped>\n",
       "    .dataframe tbody tr th:only-of-type {\n",
       "        vertical-align: middle;\n",
       "    }\n",
       "\n",
       "    .dataframe tbody tr th {\n",
       "        vertical-align: top;\n",
       "    }\n",
       "\n",
       "    .dataframe thead th {\n",
       "        text-align: right;\n",
       "    }\n",
       "</style>\n",
       "<table border=\"1\" class=\"dataframe\">\n",
       "  <thead>\n",
       "    <tr style=\"text-align: right;\">\n",
       "      <th></th>\n",
       "      <th>pressure</th>\n",
       "      <th>maxtemp</th>\n",
       "      <th>temparature</th>\n",
       "      <th>mintemp</th>\n",
       "      <th>dewpoint</th>\n",
       "      <th>humidity</th>\n",
       "      <th>cloud</th>\n",
       "      <th>sunshine</th>\n",
       "      <th>winddirection</th>\n",
       "      <th>windspeed</th>\n",
       "    </tr>\n",
       "  </thead>\n",
       "  <tbody>\n",
       "    <tr>\n",
       "      <th>0</th>\n",
       "      <td>1017.4</td>\n",
       "      <td>21.2</td>\n",
       "      <td>20.6</td>\n",
       "      <td>19.9</td>\n",
       "      <td>19.4</td>\n",
       "      <td>87.0</td>\n",
       "      <td>88.0</td>\n",
       "      <td>1.1</td>\n",
       "      <td>60.0</td>\n",
       "      <td>17.2</td>\n",
       "    </tr>\n",
       "    <tr>\n",
       "      <th>1</th>\n",
       "      <td>1019.5</td>\n",
       "      <td>16.2</td>\n",
       "      <td>16.9</td>\n",
       "      <td>15.8</td>\n",
       "      <td>15.4</td>\n",
       "      <td>95.0</td>\n",
       "      <td>91.0</td>\n",
       "      <td>0.0</td>\n",
       "      <td>50.0</td>\n",
       "      <td>21.9</td>\n",
       "    </tr>\n",
       "    <tr>\n",
       "      <th>2</th>\n",
       "      <td>1024.1</td>\n",
       "      <td>19.4</td>\n",
       "      <td>16.1</td>\n",
       "      <td>14.6</td>\n",
       "      <td>9.3</td>\n",
       "      <td>75.0</td>\n",
       "      <td>47.0</td>\n",
       "      <td>8.3</td>\n",
       "      <td>70.0</td>\n",
       "      <td>18.1</td>\n",
       "    </tr>\n",
       "    <tr>\n",
       "      <th>3</th>\n",
       "      <td>1013.4</td>\n",
       "      <td>18.1</td>\n",
       "      <td>17.8</td>\n",
       "      <td>16.9</td>\n",
       "      <td>16.8</td>\n",
       "      <td>95.0</td>\n",
       "      <td>95.0</td>\n",
       "      <td>0.0</td>\n",
       "      <td>60.0</td>\n",
       "      <td>35.6</td>\n",
       "    </tr>\n",
       "    <tr>\n",
       "      <th>4</th>\n",
       "      <td>1021.8</td>\n",
       "      <td>21.3</td>\n",
       "      <td>18.4</td>\n",
       "      <td>15.2</td>\n",
       "      <td>9.6</td>\n",
       "      <td>52.0</td>\n",
       "      <td>45.0</td>\n",
       "      <td>3.6</td>\n",
       "      <td>40.0</td>\n",
       "      <td>24.8</td>\n",
       "    </tr>\n",
       "  </tbody>\n",
       "</table>\n",
       "</div>"
      ],
      "text/plain": [
       "   pressure  maxtemp  temparature  mintemp  dewpoint  humidity  cloud  \\\n",
       "0    1017.4     21.2         20.6     19.9      19.4      87.0   88.0   \n",
       "1    1019.5     16.2         16.9     15.8      15.4      95.0   91.0   \n",
       "2    1024.1     19.4         16.1     14.6       9.3      75.0   47.0   \n",
       "3    1013.4     18.1         17.8     16.9      16.8      95.0   95.0   \n",
       "4    1021.8     21.3         18.4     15.2       9.6      52.0   45.0   \n",
       "\n",
       "   sunshine  winddirection  windspeed  \n",
       "0       1.1           60.0       17.2  \n",
       "1       0.0           50.0       21.9  \n",
       "2       8.3           70.0       18.1  \n",
       "3       0.0           60.0       35.6  \n",
       "4       3.6           40.0       24.8  "
      ]
     },
     "execution_count": 94,
     "metadata": {},
     "output_type": "execute_result"
    }
   ],
   "source": [
    "df_train_set_pandas_new=df_train_set_pandas.drop('rainfall',axis=True)\n",
    "df_train_set_pandas_new.head()"
   ]
  },
  {
   "cell_type": "code",
   "execution_count": 102,
   "metadata": {},
   "outputs": [
    {
     "data": {
      "text/plain": [
       "0       1\n",
       "1       1\n",
       "2       1\n",
       "3       1\n",
       "4       0\n",
       "       ..\n",
       "2185    1\n",
       "2186    1\n",
       "2187    1\n",
       "2188    1\n",
       "2189    1\n",
       "Name: rainfall, Length: 2190, dtype: int32"
      ]
     },
     "execution_count": 102,
     "metadata": {},
     "output_type": "execute_result"
    }
   ],
   "source": [
    "df_train_set_pandas_target_column=df_train_set_pandas['rainfall']\n",
    "df_train_set_pandas_target_column"
   ]
  },
  {
   "cell_type": "code",
   "execution_count": 96,
   "metadata": {},
   "outputs": [
    {
     "data": {
      "text/plain": [
       "Index(['pressure', 'maxtemp', 'temparature', 'mintemp', 'dewpoint', 'humidity',\n",
       "       'cloud', 'sunshine', 'winddirection', 'windspeed', 'rainfall'],\n",
       "      dtype='object')"
      ]
     },
     "execution_count": 96,
     "metadata": {},
     "output_type": "execute_result"
    }
   ],
   "source": [
    "df_train_set_pandas.columns"
   ]
  },
  {
   "cell_type": "code",
   "execution_count": 97,
   "metadata": {},
   "outputs": [
    {
     "data": {
      "image/png": "[encoded data removed]",
      "text/plain": [
       "<Figure size 400x400 with 1 Axes>"
      ]
     },
     "metadata": {},
     "output_type": "display_data"
    },
    {
     "data": {
      "image/png": "[encoded data removed]",
      "text/plain": [
       "<Figure size 400x400 with 1 Axes>"
      ]
     },
     "metadata": {},
     "output_type": "display_data"
    },
    {
     "data": {
      "image/png": "[encoded data removed]",
      "text/plain": [
       "<Figure size 400x400 with 1 Axes>"
      ]
     },
     "metadata": {},
     "output_type": "display_data"
    },
    {
     "data": {
      "image/png": "[encoded data removed]",
      "text/plain": [
       "<Figure size 400x400 with 1 Axes>"
      ]
     },
     "metadata": {},
     "output_type": "display_data"
    },
    {
     "data": {
      "image/png": "[encoded data removed]",
      "text/plain": [
       "<Figure size 400x400 with 1 Axes>"
      ]
     },
     "metadata": {},
     "output_type": "display_data"
    },
    {
     "data": {
      "image/png": "[encoded data removed]",
      "text/plain": [
       "<Figure size 400x400 with 1 Axes>"
      ]
     },
     "metadata": {},
     "output_type": "display_data"
    },
    {
     "data": {
      "image/png": "[encoded data removed]",
      "text/plain": [
       "<Figure size 400x400 with 1 Axes>"
      ]
     },
     "metadata": {},
     "output_type": "display_data"
    },
    {
     "data": {
      "image/png": "[encoded data removed]",
      "text/plain": [
       "<Figure size 400x400 with 1 Axes>"
      ]
     },
     "metadata": {},
     "output_type": "display_data"
    },
    {
     "data": {
      "image/png": "[encoded data removed]",
      "text/plain": [
       "<Figure size 400x400 with 1 Axes>"
      ]
     },
     "metadata": {},
     "output_type": "display_data"
    },
    {
     "data": {
      "image/png": "[encoded data removed]",
      "text/plain": [
       "<Figure size 400x400 with 1 Axes>"
      ]
     },
     "metadata": {},
     "output_type": "display_data"
    },
    {
     "data": {
      "image/png": "[encoded data removed]",
      "text/plain": [
       "<Figure size 400x400 with 1 Axes>"
      ]
     },
     "metadata": {},
     "output_type": "display_data"
    }
   ],
   "source": [
    "%matplotlib inline\n",
    "import matplotlib.pyplot as plt\n",
    "for df_train_set_pandas_columns in df_train_set_pandas.columns:\n",
    "    #print(type(df_train_set_pandas_columns))\n",
    "    plt.figure(figsize=(4, 4))\n",
    "    plt.bar(df_train_set_pandas[df_train_set_pandas_columns], df_train_set_pandas[\"rainfall\"],color=\"skyblue\")\n",
    "    plt.xlabel(df_train_set_pandas_columns)\n",
    "    plt.ylabel(\"rainfall\")\n",
    "    plt.title(\"rainfall vs \"+df_train_set_pandas_columns)\n",
    "    plt.show()"
   ]
  },
  {
   "cell_type": "code",
   "execution_count": 98,
   "metadata": {},
   "outputs": [
    {
     "name": "stdout",
     "output_type": "stream",
     "text": [
      "<class 'pandas.core.frame.DataFrame'>\n",
      "RangeIndex: 2190 entries, 0 to 2189\n",
      "Data columns (total 11 columns):\n",
      " #   Column         Non-Null Count  Dtype  \n",
      "---  ------         --------------  -----  \n",
      " 0   pressure       2190 non-null   float64\n",
      " 1   maxtemp        2190 non-null   float64\n",
      " 2   temparature    2190 non-null   float64\n",
      " 3   mintemp        2190 non-null   float64\n",
      " 4   dewpoint       2190 non-null   float64\n",
      " 5   humidity       2190 non-null   float64\n",
      " 6   cloud          2190 non-null   float64\n",
      " 7   sunshine       2190 non-null   float64\n",
      " 8   winddirection  2190 non-null   float64\n",
      " 9   windspeed      2190 non-null   float64\n",
      " 10  rainfall       2190 non-null   int32  \n",
      "dtypes: float64(10), int32(1)\n",
      "memory usage: 179.8 KB\n"
     ]
    }
   ],
   "source": [
    "## check the information of dataset\n",
    "pandas_df_info=df_train_set_pandas.info()\n",
    "pandas_df_info\n"
   ]
  },
  {
   "cell_type": "code",
   "execution_count": 99,
   "metadata": {},
   "outputs": [
    {
     "data": {
      "text/html": [
       "<div>\n",
       "<style scoped>\n",
       "    .dataframe tbody tr th:only-of-type {\n",
       "        vertical-align: middle;\n",
       "    }\n",
       "\n",
       "    .dataframe tbody tr th {\n",
       "        vertical-align: top;\n",
       "    }\n",
       "\n",
       "    .dataframe thead th {\n",
       "        text-align: right;\n",
       "    }\n",
       "</style>\n",
       "<table border=\"1\" class=\"dataframe\">\n",
       "  <thead>\n",
       "    <tr style=\"text-align: right;\">\n",
       "      <th></th>\n",
       "      <th>pressure</th>\n",
       "      <th>maxtemp</th>\n",
       "      <th>temparature</th>\n",
       "      <th>mintemp</th>\n",
       "      <th>dewpoint</th>\n",
       "      <th>humidity</th>\n",
       "      <th>cloud</th>\n",
       "      <th>sunshine</th>\n",
       "      <th>winddirection</th>\n",
       "      <th>windspeed</th>\n",
       "      <th>rainfall</th>\n",
       "    </tr>\n",
       "  </thead>\n",
       "  <tbody>\n",
       "    <tr>\n",
       "      <th>count</th>\n",
       "      <td>2190.000000</td>\n",
       "      <td>2190.000000</td>\n",
       "      <td>2190.000000</td>\n",
       "      <td>2190.000000</td>\n",
       "      <td>2190.000000</td>\n",
       "      <td>2190.000000</td>\n",
       "      <td>2190.000000</td>\n",
       "      <td>2190.000000</td>\n",
       "      <td>2190.000000</td>\n",
       "      <td>2190.000000</td>\n",
       "      <td>2190.000000</td>\n",
       "    </tr>\n",
       "    <tr>\n",
       "      <th>mean</th>\n",
       "      <td>1013.602146</td>\n",
       "      <td>26.365799</td>\n",
       "      <td>23.953059</td>\n",
       "      <td>22.170091</td>\n",
       "      <td>20.454566</td>\n",
       "      <td>82.036530</td>\n",
       "      <td>75.721918</td>\n",
       "      <td>3.744429</td>\n",
       "      <td>104.863151</td>\n",
       "      <td>21.804703</td>\n",
       "      <td>0.753425</td>\n",
       "    </tr>\n",
       "    <tr>\n",
       "      <th>std</th>\n",
       "      <td>5.655366</td>\n",
       "      <td>5.654330</td>\n",
       "      <td>5.222410</td>\n",
       "      <td>5.059120</td>\n",
       "      <td>5.288406</td>\n",
       "      <td>7.800654</td>\n",
       "      <td>18.026498</td>\n",
       "      <td>3.626327</td>\n",
       "      <td>80.002416</td>\n",
       "      <td>9.898659</td>\n",
       "      <td>0.431116</td>\n",
       "    </tr>\n",
       "    <tr>\n",
       "      <th>min</th>\n",
       "      <td>999.000000</td>\n",
       "      <td>10.400000</td>\n",
       "      <td>7.400000</td>\n",
       "      <td>4.000000</td>\n",
       "      <td>-0.300000</td>\n",
       "      <td>39.000000</td>\n",
       "      <td>2.000000</td>\n",
       "      <td>0.000000</td>\n",
       "      <td>10.000000</td>\n",
       "      <td>4.400000</td>\n",
       "      <td>0.000000</td>\n",
       "    </tr>\n",
       "    <tr>\n",
       "      <th>25%</th>\n",
       "      <td>1008.600000</td>\n",
       "      <td>21.300000</td>\n",
       "      <td>19.300000</td>\n",
       "      <td>17.700000</td>\n",
       "      <td>16.800000</td>\n",
       "      <td>77.000000</td>\n",
       "      <td>69.000000</td>\n",
       "      <td>0.400000</td>\n",
       "      <td>40.000000</td>\n",
       "      <td>14.125000</td>\n",
       "      <td>1.000000</td>\n",
       "    </tr>\n",
       "    <tr>\n",
       "      <th>50%</th>\n",
       "      <td>1013.000000</td>\n",
       "      <td>27.800000</td>\n",
       "      <td>25.500000</td>\n",
       "      <td>23.850000</td>\n",
       "      <td>22.150000</td>\n",
       "      <td>82.000000</td>\n",
       "      <td>83.000000</td>\n",
       "      <td>2.400000</td>\n",
       "      <td>70.000000</td>\n",
       "      <td>20.500000</td>\n",
       "      <td>1.000000</td>\n",
       "    </tr>\n",
       "    <tr>\n",
       "      <th>75%</th>\n",
       "      <td>1017.775000</td>\n",
       "      <td>31.200000</td>\n",
       "      <td>28.400000</td>\n",
       "      <td>26.400000</td>\n",
       "      <td>25.000000</td>\n",
       "      <td>88.000000</td>\n",
       "      <td>88.000000</td>\n",
       "      <td>6.800000</td>\n",
       "      <td>200.000000</td>\n",
       "      <td>27.900000</td>\n",
       "      <td>1.000000</td>\n",
       "    </tr>\n",
       "    <tr>\n",
       "      <th>max</th>\n",
       "      <td>1034.600000</td>\n",
       "      <td>36.000000</td>\n",
       "      <td>31.500000</td>\n",
       "      <td>29.800000</td>\n",
       "      <td>26.700000</td>\n",
       "      <td>98.000000</td>\n",
       "      <td>100.000000</td>\n",
       "      <td>12.100000</td>\n",
       "      <td>300.000000</td>\n",
       "      <td>59.500000</td>\n",
       "      <td>1.000000</td>\n",
       "    </tr>\n",
       "  </tbody>\n",
       "</table>\n",
       "</div>"
      ],
      "text/plain": [
       "          pressure      maxtemp  temparature      mintemp     dewpoint  \\\n",
       "count  2190.000000  2190.000000  2190.000000  2190.000000  2190.000000   \n",
       "mean   1013.602146    26.365799    23.953059    22.170091    20.454566   \n",
       "std       5.655366     5.654330     5.222410     5.059120     5.288406   \n",
       "min     999.000000    10.400000     7.400000     4.000000    -0.300000   \n",
       "25%    1008.600000    21.300000    19.300000    17.700000    16.800000   \n",
       "50%    1013.000000    27.800000    25.500000    23.850000    22.150000   \n",
       "75%    1017.775000    31.200000    28.400000    26.400000    25.000000   \n",
       "max    1034.600000    36.000000    31.500000    29.800000    26.700000   \n",
       "\n",
       "          humidity        cloud     sunshine  winddirection    windspeed  \\\n",
       "count  2190.000000  2190.000000  2190.000000    2190.000000  2190.000000   \n",
       "mean     82.036530    75.721918     3.744429     104.863151    21.804703   \n",
       "std       7.800654    18.026498     3.626327      80.002416     9.898659   \n",
       "min      39.000000     2.000000     0.000000      10.000000     4.400000   \n",
       "25%      77.000000    69.000000     0.400000      40.000000    14.125000   \n",
       "50%      82.000000    83.000000     2.400000      70.000000    20.500000   \n",
       "75%      88.000000    88.000000     6.800000     200.000000    27.900000   \n",
       "max      98.000000   100.000000    12.100000     300.000000    59.500000   \n",
       "\n",
       "          rainfall  \n",
       "count  2190.000000  \n",
       "mean      0.753425  \n",
       "std       0.431116  \n",
       "min       0.000000  \n",
       "25%       1.000000  \n",
       "50%       1.000000  \n",
       "75%       1.000000  \n",
       "max       1.000000  "
      ]
     },
     "execution_count": 99,
     "metadata": {},
     "output_type": "execute_result"
    }
   ],
   "source": [
    "## check the summary stactics of dataset\n",
    "pandas_df_stat=df_train_set_pandas.describe()\n",
    "pandas_df_stat"
   ]
  },
  {
   "cell_type": "code",
   "execution_count": 100,
   "metadata": {},
   "outputs": [
    {
     "name": "stdout",
     "output_type": "stream",
     "text": [
      "               pressure   maxtemp  temparature   mintemp  dewpoint  humidity  \\\n",
      "pressure       1.000000 -0.800499    -0.816531 -0.814453 -0.817008 -0.119949   \n",
      "maxtemp       -0.800499  1.000000     0.982932  0.965529  0.906703 -0.072615   \n",
      "temparature   -0.816531  0.982932     1.000000  0.987150  0.933617 -0.025016   \n",
      "mintemp       -0.814453  0.965529     0.987150  1.000000  0.941342  0.009891   \n",
      "dewpoint      -0.817008  0.906703     0.933617  0.941342  1.000000  0.153390   \n",
      "humidity      -0.119949 -0.072615    -0.025016  0.009891  0.153390  1.000000   \n",
      "cloud          0.098600 -0.289047    -0.249355 -0.219399 -0.088446  0.584854   \n",
      "sunshine      -0.257163  0.452387     0.414019  0.379497  0.249676 -0.541592   \n",
      "winddirection -0.643293  0.662235     0.668963  0.663828  0.643073 -0.012430   \n",
      "windspeed      0.266012 -0.354168    -0.342262 -0.328871 -0.312179  0.062285   \n",
      "rainfall      -0.049886 -0.079304    -0.049660 -0.026841  0.081965  0.454213   \n",
      "\n",
      "                  cloud  sunshine  winddirection  windspeed  rainfall  \n",
      "pressure       0.098600 -0.257163      -0.643293   0.266012 -0.049886  \n",
      "maxtemp       -0.289047  0.452387       0.662235  -0.354168 -0.079304  \n",
      "temparature   -0.249355  0.414019       0.668963  -0.342262 -0.049660  \n",
      "mintemp       -0.219399  0.379497       0.663828  -0.328871 -0.026841  \n",
      "dewpoint      -0.088446  0.249676       0.643073  -0.312179  0.081965  \n",
      "humidity       0.584854 -0.541592      -0.012430   0.062285  0.454213  \n",
      "cloud          1.000000 -0.805128      -0.127087   0.184698  0.641191  \n",
      "sunshine      -0.805128  1.000000       0.272235  -0.241752 -0.555287  \n",
      "winddirection -0.127087  0.272235       1.000000  -0.192417 -0.006939  \n",
      "windspeed      0.184698 -0.241752      -0.192417   1.000000  0.111625  \n",
      "rainfall       0.641191 -0.555287      -0.006939   0.111625  1.000000  \n"
     ]
    }
   ],
   "source": [
    "correlation=df_train_set_pandas.corr()\n",
    "print(correlation)"
   ]
  },
  {
   "cell_type": "markdown",
   "metadata": {},
   "source": [
    "## Model selection and Model training"
   ]
  },
  {
   "cell_type": "code",
   "execution_count": 103,
   "metadata": {},
   "outputs": [],
   "source": [
    "## Split the trainset into train and test set (validation set)\n",
    "from sklearn.model_selection import train_test_split\n",
    "\n",
    "X_train,X_test,y_train,y_test=train_test_split(df_train_set_pandas_new,df_train_set_pandas_target_column, test_size=0.2, random_state=42)"
   ]
  },
  {
   "cell_type": "code",
   "execution_count": 105,
   "metadata": {},
   "outputs": [],
   "source": [
    "#X_train.head()"
   ]
  },
  {
   "cell_type": "code",
   "execution_count": null,
   "metadata": {},
   "outputs": [],
   "source": []
  }
 ],
 "metadata": {
  "kernelspec": {
   "display_name": "Python 3",
   "language": "python",
   "name": "python3"
  },
  "language_info": {
   "codemirror_mode": {
    "name": "ipython",
    "version": 3
   },
   "file_extension": ".py",
   "mimetype": "text/x-python",
   "name": "python",
   "nbconvert_exporter": "python",
   "pygments_lexer": "ipython3",
   "version": "3.12.1"
  }
 },
 "nbformat": 4,
 "nbformat_minor": 2
}
