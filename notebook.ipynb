{
 "cells": [
  {
   "cell_type": "code",
   "execution_count": 3,
   "metadata": {},
   "outputs": [
    {
     "data": {
      "text/html": [
       "\n",
       "            <div>\n",
       "                <p><b>SparkSession - in-memory</b></p>\n",
       "                \n",
       "        <div>\n",
       "            <p><b>SparkContext</b></p>\n",
       "\n",
       "            <p><a href=\"http://host.docker.internal:4040\">Spark UI</a></p>\n",
       "\n",
       "            <dl>\n",
       "              <dt>Version</dt>\n",
       "                <dd><code>v3.5.5</code></dd>\n",
       "              <dt>Master</dt>\n",
       "                <dd><code>local[*]</code></dd>\n",
       "              <dt>AppName</dt>\n",
       "                <dd><code>Rainfall-predictions-ML-project</code></dd>\n",
       "            </dl>\n",
       "        </div>\n",
       "        \n",
       "            </div>\n",
       "        "
      ],
      "text/plain": [
       "<pyspark.sql.session.SparkSession at 0x1f716c50aa0>"
      ]
     },
     "execution_count": 3,
     "metadata": {},
     "output_type": "execute_result"
    }
   ],
   "source": [
    "## Import the  pyspark libraries adn create the pyspark session\n",
    "import pyspark\n",
    "from pyspark.sql import SparkSession\n",
    "spark=SparkSession.builder.appName('Rainfall-predictions-ML-project').getOrCreate()\n",
    "spark\n"
   ]
  },
  {
   "cell_type": "code",
   "execution_count": 4,
   "metadata": {},
   "outputs": [
    {
     "name": "stdout",
     "output_type": "stream",
     "text": [
      "+---+---+--------+-------+-----------+-------+--------+--------+-----+--------+-------------+---------+--------+\n",
      "| id|day|pressure|maxtemp|temparature|mintemp|dewpoint|humidity|cloud|sunshine|winddirection|windspeed|rainfall|\n",
      "+---+---+--------+-------+-----------+-------+--------+--------+-----+--------+-------------+---------+--------+\n",
      "|  0|  1|  1017.4|   21.2|       20.6|   19.9|    19.4|    87.0| 88.0|     1.1|         60.0|     17.2|       1|\n",
      "|  1|  2|  1019.5|   16.2|       16.9|   15.8|    15.4|    95.0| 91.0|     0.0|         50.0|     21.9|       1|\n",
      "|  2|  3|  1024.1|   19.4|       16.1|   14.6|     9.3|    75.0| 47.0|     8.3|         70.0|     18.1|       1|\n",
      "|  3|  4|  1013.4|   18.1|       17.8|   16.9|    16.8|    95.0| 95.0|     0.0|         60.0|     35.6|       1|\n",
      "|  4|  5|  1021.8|   21.3|       18.4|   15.2|     9.6|    52.0| 45.0|     3.6|         40.0|     24.8|       0|\n",
      "|  5|  6|  1022.7|   20.6|       18.6|   16.5|    12.5|    79.0| 81.0|     0.0|         20.0|     15.7|       1|\n",
      "|  6|  7|  1022.8|   19.5|       18.4|   15.3|    11.3|    56.0| 46.0|     7.6|         20.0|     28.4|       0|\n",
      "|  7|  8|  1019.7|   15.8|       13.6|   12.7|    11.8|    96.0|100.0|     0.0|         50.0|     52.8|       1|\n",
      "|  8|  9|  1017.4|   17.6|       16.5|   15.6|    12.5|    86.0|100.0|     0.0|         50.0|     37.5|       1|\n",
      "|  9| 10|  1025.4|   16.5|       14.4|   12.0|     8.6|    77.0| 84.0|     1.0|         50.0|     38.3|       0|\n",
      "| 10| 11|  1016.8|   16.3|       15.3|   14.1|    14.0|    97.0|100.0|     0.0|         40.0|     24.4|       1|\n",
      "| 11| 12|  1012.5|   16.2|       15.2|   14.0|    12.4|    98.0|100.0|     0.0|         50.0|     23.5|       1|\n",
      "| 12| 13|  1020.4|   15.0|       15.5|   13.2|    12.0|    77.0| 86.0|     0.0|         50.0|     32.4|       1|\n",
      "| 13| 14|  1012.5|   13.5|       12.9|   11.6|    11.8|    87.0| 92.0|     0.0|         50.0|     37.0|       1|\n",
      "| 14| 15|  1018.4|   17.8|       16.5|   15.1|    12.1|    77.0| 85.0|     1.2|         40.0|     20.9|       1|\n",
      "| 15| 16|  1024.3|   15.3|       12.9|   10.0|    11.2|    79.0| 91.0|     0.3|         20.0|     20.0|       1|\n",
      "| 16| 17|  1022.5|   16.3|       13.1|   11.4|     2.0|    79.0| 70.0|     6.8|         20.0|     30.3|       1|\n",
      "| 17| 18|  1034.6|   17.5|       16.2|   14.1|    11.8|    68.0| 60.0|     2.5|         50.0|     13.4|       0|\n",
      "| 18| 19|  1024.1|   16.8|       15.8|   14.0|    12.9|    76.0| 77.0|     0.0|         20.0|     20.5|       1|\n",
      "| 19| 20|  1020.2|   16.4|       14.2|   12.7|    11.6|    75.0| 93.0|     0.1|         40.0|     21.9|       1|\n",
      "+---+---+--------+-------+-----------+-------+--------+--------+-----+--------+-------------+---------+--------+\n",
      "only showing top 20 rows\n",
      "\n"
     ]
    }
   ],
   "source": [
    "## Read the train set\n",
    "df_train_set=spark.read.csv('train.csv',header=True,inferSchema=True)\n",
    "df_train_set.show()"
   ]
  },
  {
   "cell_type": "code",
   "execution_count": 5,
   "metadata": {},
   "outputs": [
    {
     "name": "stdout",
     "output_type": "stream",
     "text": [
      "root\n",
      " |-- id: integer (nullable = true)\n",
      " |-- day: integer (nullable = true)\n",
      " |-- pressure: double (nullable = true)\n",
      " |-- maxtemp: double (nullable = true)\n",
      " |-- temparature: double (nullable = true)\n",
      " |-- mintemp: double (nullable = true)\n",
      " |-- dewpoint: double (nullable = true)\n",
      " |-- humidity: double (nullable = true)\n",
      " |-- cloud: double (nullable = true)\n",
      " |-- sunshine: double (nullable = true)\n",
      " |-- winddirection: double (nullable = true)\n",
      " |-- windspeed: double (nullable = true)\n",
      " |-- rainfall: integer (nullable = true)\n",
      "\n"
     ]
    }
   ],
   "source": [
    "## check the data types of each column in dataset\n",
    "df_train_set.printSchema()"
   ]
  },
  {
   "cell_type": "code",
   "execution_count": 6,
   "metadata": {},
   "outputs": [
    {
     "data": {
      "text/plain": [
       "['id',\n",
       " 'day',\n",
       " 'pressure',\n",
       " 'maxtemp',\n",
       " 'temparature',\n",
       " 'mintemp',\n",
       " 'dewpoint',\n",
       " 'humidity',\n",
       " 'cloud',\n",
       " 'sunshine',\n",
       " 'winddirection',\n",
       " 'windspeed',\n",
       " 'rainfall']"
      ]
     },
     "execution_count": 6,
     "metadata": {},
     "output_type": "execute_result"
    }
   ],
   "source": [
    "## check the column names\n",
    "df_train_set.columns"
   ]
  },
  {
   "cell_type": "markdown",
   "metadata": {},
   "source": [
    "## Data Preprocessing"
   ]
  },
  {
   "cell_type": "code",
   "execution_count": 7,
   "metadata": {},
   "outputs": [
    {
     "name": "stdout",
     "output_type": "stream",
     "text": [
      "+---+---+--------+-------+-----------+-------+--------+--------+-----+--------+-------------+---------+--------+\n",
      "| id|day|pressure|maxtemp|temparature|mintemp|dewpoint|humidity|cloud|sunshine|winddirection|windspeed|rainfall|\n",
      "+---+---+--------+-------+-----------+-------+--------+--------+-----+--------+-------------+---------+--------+\n",
      "|  0|  0|       0|      0|          0|      0|       0|       0|    0|       0|            0|        0|       0|\n",
      "+---+---+--------+-------+-----------+-------+--------+--------+-----+--------+-------------+---------+--------+\n",
      "\n"
     ]
    }
   ],
   "source": [
    "## chech the null values\n",
    "from pyspark.sql.functions import col,isnan, when, count\n",
    "df_train_set.select([count(when(isnan(c) | col(c).isNull(), c)).alias(c) for c in df_train_set.columns]\n",
    "   ).show()\n"
   ]
  },
  {
   "cell_type": "code",
   "execution_count": 8,
   "metadata": {},
   "outputs": [],
   "source": [
    "## seperate the independent features and target lables\n",
    "#independent_features=df_train_set.select(['id','day','pressure','maxtemp','temparature','mintemp','dewpoint','humidity','cloud','sunshine','winddirection','windspeed'])\n",
    "#target_feature=df_train_set.select(['rainfall'])\n",
    "#independent_features.show(),target_feature.show()"
   ]
  },
  {
   "cell_type": "code",
   "execution_count": 9,
   "metadata": {},
   "outputs": [
    {
     "name": "stdout",
     "output_type": "stream",
     "text": [
      "+---+---+--------+-------+-----------+-------+--------+--------+-----+--------+-------------+---------+--------+--------------------+\n",
      "| id|day|pressure|maxtemp|temparature|mintemp|dewpoint|humidity|cloud|sunshine|winddirection|windspeed|rainfall|independent_features|\n",
      "+---+---+--------+-------+-----------+-------+--------+--------+-----+--------+-------------+---------+--------+--------------------+\n",
      "|  0|  1|  1017.4|   21.2|       20.6|   19.9|    19.4|    87.0| 88.0|     1.1|         60.0|     17.2|       1|[1017.4,21.2,20.6...|\n",
      "|  1|  2|  1019.5|   16.2|       16.9|   15.8|    15.4|    95.0| 91.0|     0.0|         50.0|     21.9|       1|[1019.5,16.2,16.9...|\n",
      "|  2|  3|  1024.1|   19.4|       16.1|   14.6|     9.3|    75.0| 47.0|     8.3|         70.0|     18.1|       1|[1024.1,19.4,16.1...|\n",
      "|  3|  4|  1013.4|   18.1|       17.8|   16.9|    16.8|    95.0| 95.0|     0.0|         60.0|     35.6|       1|[1013.4,18.1,17.8...|\n",
      "|  4|  5|  1021.8|   21.3|       18.4|   15.2|     9.6|    52.0| 45.0|     3.6|         40.0|     24.8|       0|[1021.8,21.3,18.4...|\n",
      "|  5|  6|  1022.7|   20.6|       18.6|   16.5|    12.5|    79.0| 81.0|     0.0|         20.0|     15.7|       1|[1022.7,20.6,18.6...|\n",
      "|  6|  7|  1022.8|   19.5|       18.4|   15.3|    11.3|    56.0| 46.0|     7.6|         20.0|     28.4|       0|[1022.8,19.5,18.4...|\n",
      "|  7|  8|  1019.7|   15.8|       13.6|   12.7|    11.8|    96.0|100.0|     0.0|         50.0|     52.8|       1|[1019.7,15.8,13.6...|\n",
      "|  8|  9|  1017.4|   17.6|       16.5|   15.6|    12.5|    86.0|100.0|     0.0|         50.0|     37.5|       1|[1017.4,17.6,16.5...|\n",
      "|  9| 10|  1025.4|   16.5|       14.4|   12.0|     8.6|    77.0| 84.0|     1.0|         50.0|     38.3|       0|[1025.4,16.5,14.4...|\n",
      "| 10| 11|  1016.8|   16.3|       15.3|   14.1|    14.0|    97.0|100.0|     0.0|         40.0|     24.4|       1|[1016.8,16.3,15.3...|\n",
      "| 11| 12|  1012.5|   16.2|       15.2|   14.0|    12.4|    98.0|100.0|     0.0|         50.0|     23.5|       1|[1012.5,16.2,15.2...|\n",
      "| 12| 13|  1020.4|   15.0|       15.5|   13.2|    12.0|    77.0| 86.0|     0.0|         50.0|     32.4|       1|[1020.4,15.0,15.5...|\n",
      "| 13| 14|  1012.5|   13.5|       12.9|   11.6|    11.8|    87.0| 92.0|     0.0|         50.0|     37.0|       1|[1012.5,13.5,12.9...|\n",
      "| 14| 15|  1018.4|   17.8|       16.5|   15.1|    12.1|    77.0| 85.0|     1.2|         40.0|     20.9|       1|[1018.4,17.8,16.5...|\n",
      "| 15| 16|  1024.3|   15.3|       12.9|   10.0|    11.2|    79.0| 91.0|     0.3|         20.0|     20.0|       1|[1024.3,15.3,12.9...|\n",
      "| 16| 17|  1022.5|   16.3|       13.1|   11.4|     2.0|    79.0| 70.0|     6.8|         20.0|     30.3|       1|[1022.5,16.3,13.1...|\n",
      "| 17| 18|  1034.6|   17.5|       16.2|   14.1|    11.8|    68.0| 60.0|     2.5|         50.0|     13.4|       0|[1034.6,17.5,16.2...|\n",
      "| 18| 19|  1024.1|   16.8|       15.8|   14.0|    12.9|    76.0| 77.0|     0.0|         20.0|     20.5|       1|[1024.1,16.8,15.8...|\n",
      "| 19| 20|  1020.2|   16.4|       14.2|   12.7|    11.6|    75.0| 93.0|     0.1|         40.0|     21.9|       1|[1020.2,16.4,14.2...|\n",
      "+---+---+--------+-------+-----------+-------+--------+--------+-----+--------+-------------+---------+--------+--------------------+\n",
      "only showing top 20 rows\n",
      "\n"
     ]
    }
   ],
   "source": [
    "from pyspark.ml.feature import VectorAssembler\n",
    "feature_assembler = VectorAssembler(inputCols=['pressure','maxtemp','temparature','mintemp','dewpoint','humidity','cloud','sunshine','winddirection','windspeed'],outputCol='independent_features')\n",
    "output_features =feature_assembler.transform(df_train_set)\n",
    "output_features.show()"
   ]
  },
  {
   "cell_type": "code",
   "execution_count": 10,
   "metadata": {},
   "outputs": [
    {
     "name": "stdout",
     "output_type": "stream",
     "text": [
      "+--------------------+\n",
      "|independent_features|\n",
      "+--------------------+\n",
      "|[1017.4,21.2,20.6...|\n",
      "|[1019.5,16.2,16.9...|\n",
      "|[1024.1,19.4,16.1...|\n",
      "|[1013.4,18.1,17.8...|\n",
      "|[1021.8,21.3,18.4...|\n",
      "|[1022.7,20.6,18.6...|\n",
      "|[1022.8,19.5,18.4...|\n",
      "|[1019.7,15.8,13.6...|\n",
      "|[1017.4,17.6,16.5...|\n",
      "|[1025.4,16.5,14.4...|\n",
      "|[1016.8,16.3,15.3...|\n",
      "|[1012.5,16.2,15.2...|\n",
      "|[1020.4,15.0,15.5...|\n",
      "|[1012.5,13.5,12.9...|\n",
      "|[1018.4,17.8,16.5...|\n",
      "|[1024.3,15.3,12.9...|\n",
      "|[1022.5,16.3,13.1...|\n",
      "|[1034.6,17.5,16.2...|\n",
      "|[1024.1,16.8,15.8...|\n",
      "|[1020.2,16.4,14.2...|\n",
      "+--------------------+\n",
      "only showing top 20 rows\n",
      "\n"
     ]
    }
   ],
   "source": [
    "## select the  indepedent features from dataset\n",
    "output_independent_features=output_features.select('independent_features')\n",
    "output_independent_features.show()"
   ]
  },
  {
   "cell_type": "code",
   "execution_count": 11,
   "metadata": {},
   "outputs": [
    {
     "name": "stdout",
     "output_type": "stream",
     "text": [
      "+--------------------+--------------------+\n",
      "|independent_features|     scaled_features|\n",
      "+--------------------+--------------------+\n",
      "|[1017.4,21.2,20.6...|[179.899948764456...|\n",
      "|[1019.5,16.2,16.9...|[180.271277536233...|\n",
      "|[1024.1,19.4,16.1...|[181.084664369648...|\n",
      "|[1013.4,18.1,17.8...|[179.192655865834...|\n",
      "|[1021.8,21.3,18.4...|[180.677970952940...|\n",
      "|[1022.7,20.6,18.6...|[180.837111855130...|\n",
      "|[1022.8,19.5,18.4...|[180.854794177596...|\n",
      "|[1019.7,15.8,13.6...|[180.306642181164...|\n",
      "|[1017.4,17.6,16.5...|[179.899948764456...|\n",
      "|[1025.4,16.5,14.4...|[181.314534561700...|\n",
      "|[1016.8,16.3,15.3...|[179.793854829663...|\n",
      "|[1012.5,16.2,15.2...|[179.033514963644...|\n",
      "|[1020.4,15.0,15.5...|[180.430418438423...|\n",
      "|[1012.5,13.5,12.9...|[179.033514963644...|\n",
      "|[1018.4,17.8,16.5...|[180.076771989112...|\n",
      "|[1024.3,15.3,12.9...|[181.120029014579...|\n",
      "|[1022.5,16.3,13.1...|[180.801747210199...|\n",
      "|[1034.6,17.5,16.2...|[182.941308228530...|\n",
      "|[1024.1,16.8,15.8...|[181.084664369648...|\n",
      "|[1020.2,16.4,14.2...|[180.395053793491...|\n",
      "+--------------------+--------------------+\n",
      "only showing top 20 rows\n",
      "\n"
     ]
    }
   ],
   "source": [
    "## scale the dataset usinf standard scaling\n",
    "from pyspark.ml.feature import StandardScaler\n",
    "scaler=StandardScaler(inputCol='independent_features', outputCol='scaled_features',withStd=True, withMean=False)\n",
    "scaler_model=scaler.fit(output_independent_features)\n",
    "scaled_train_data = scaler_model.transform(output_independent_features)\n",
    "scaled_train_data.show()"
   ]
  },
  {
   "cell_type": "code",
   "execution_count": 12,
   "metadata": {},
   "outputs": [
    {
     "name": "stdout",
     "output_type": "stream",
     "text": [
      "+--------------------+\n",
      "|     scaled_features|\n",
      "+--------------------+\n",
      "|[179.899948764456...|\n",
      "|[180.271277536233...|\n",
      "|[181.084664369648...|\n",
      "|[179.192655865834...|\n",
      "|[180.677970952940...|\n",
      "|[180.837111855130...|\n",
      "|[180.854794177596...|\n",
      "|[180.306642181164...|\n",
      "|[179.899948764456...|\n",
      "|[181.314534561700...|\n",
      "|[179.793854829663...|\n",
      "|[179.033514963644...|\n",
      "|[180.430418438423...|\n",
      "|[179.033514963644...|\n",
      "|[180.076771989112...|\n",
      "|[181.120029014579...|\n",
      "|[180.801747210199...|\n",
      "|[182.941308228530...|\n",
      "|[181.084664369648...|\n",
      "|[180.395053793491...|\n",
      "+--------------------+\n",
      "only showing top 20 rows\n",
      "\n"
     ]
    }
   ],
   "source": [
    "scaled_train_preprocessed_data=scaled_train_data.select('scaled_features')\n",
    "scaled_train_preprocessed_data.show()"
   ]
  },
  {
   "cell_type": "markdown",
   "metadata": {},
   "source": [
    "## Explotary Data Analysis"
   ]
  },
  {
   "cell_type": "code",
   "execution_count": 13,
   "metadata": {},
   "outputs": [
    {
     "name": "stdout",
     "output_type": "stream",
     "text": [
      "+--------------------+\n",
      "|     scaled_features|\n",
      "+--------------------+\n",
      "|[179.899948764456...|\n",
      "|[180.271277536233...|\n",
      "|[181.084664369648...|\n",
      "|[179.192655865834...|\n",
      "|[180.677970952940...|\n",
      "|[180.837111855130...|\n",
      "|[180.854794177596...|\n",
      "|[180.306642181164...|\n",
      "|[179.899948764456...|\n",
      "|[181.314534561700...|\n",
      "|[179.793854829663...|\n",
      "|[179.033514963644...|\n",
      "|[180.430418438423...|\n",
      "|[179.033514963644...|\n",
      "|[180.076771989112...|\n",
      "|[181.120029014579...|\n",
      "|[180.801747210199...|\n",
      "|[182.941308228530...|\n",
      "|[181.084664369648...|\n",
      "|[180.395053793491...|\n",
      "+--------------------+\n",
      "only showing top 20 rows\n",
      "\n"
     ]
    }
   ],
   "source": [
    "scaled_train_preprocessed_data.show()"
   ]
  },
  {
   "cell_type": "code",
   "execution_count": 14,
   "metadata": {},
   "outputs": [
    {
     "data": {
      "text/html": [
       "<div>\n",
       "<style scoped>\n",
       "    .dataframe tbody tr th:only-of-type {\n",
       "        vertical-align: middle;\n",
       "    }\n",
       "\n",
       "    .dataframe tbody tr th {\n",
       "        vertical-align: top;\n",
       "    }\n",
       "\n",
       "    .dataframe thead th {\n",
       "        text-align: right;\n",
       "    }\n",
       "</style>\n",
       "<table border=\"1\" class=\"dataframe\">\n",
       "  <thead>\n",
       "    <tr style=\"text-align: right;\">\n",
       "      <th></th>\n",
       "      <th>scaled_features</th>\n",
       "    </tr>\n",
       "  </thead>\n",
       "  <tbody>\n",
       "    <tr>\n",
       "      <th>0</th>\n",
       "      <td>[179.89994876445667, 3.7493387549254282, 3.944...</td>\n",
       "    </tr>\n",
       "    <tr>\n",
       "      <th>1</th>\n",
       "      <td>[180.27127753623313, 2.865060746688299, 3.2360...</td>\n",
       "    </tr>\n",
       "    <tr>\n",
       "      <th>2</th>\n",
       "      <td>[181.08466436964818, 3.4309986719600616, 3.082...</td>\n",
       "    </tr>\n",
       "    <tr>\n",
       "      <th>3</th>\n",
       "      <td>[179.19265586583487, 3.2010863898184083, 3.408...</td>\n",
       "    </tr>\n",
       "    <tr>\n",
       "      <th>4</th>\n",
       "      <td>[180.67797095294065, 3.767024315090171, 3.5232...</td>\n",
       "    </tr>\n",
       "  </tbody>\n",
       "</table>\n",
       "</div>"
      ],
      "text/plain": [
       "                                     scaled_features\n",
       "0  [179.89994876445667, 3.7493387549254282, 3.944...\n",
       "1  [180.27127753623313, 2.865060746688299, 3.2360...\n",
       "2  [181.08466436964818, 3.4309986719600616, 3.082...\n",
       "3  [179.19265586583487, 3.2010863898184083, 3.408...\n",
       "4  [180.67797095294065, 3.767024315090171, 3.5232..."
      ]
     },
     "execution_count": 14,
     "metadata": {},
     "output_type": "execute_result"
    }
   ],
   "source": [
    "## convert to pandas dataframe\n",
    "pandas_df=scaled_train_preprocessed_data.toPandas()\n",
    "pandas_df.head()\n",
    "\n"
   ]
  },
  {
   "cell_type": "code",
   "execution_count": 22,
   "metadata": {},
   "outputs": [
    {
     "data": {
      "text/plain": [
       "(2190, 1)"
      ]
     },
     "execution_count": 22,
     "metadata": {},
     "output_type": "execute_result"
    }
   ],
   "source": [
    "pandas_df.shape"
   ]
  },
  {
   "cell_type": "code",
   "execution_count": 25,
   "metadata": {},
   "outputs": [
    {
     "data": {
      "text/html": [
       "<div>\n",
       "<style scoped>\n",
       "    .dataframe tbody tr th:only-of-type {\n",
       "        vertical-align: middle;\n",
       "    }\n",
       "\n",
       "    .dataframe tbody tr th {\n",
       "        vertical-align: top;\n",
       "    }\n",
       "\n",
       "    .dataframe thead th {\n",
       "        text-align: right;\n",
       "    }\n",
       "</style>\n",
       "<table border=\"1\" class=\"dataframe\">\n",
       "  <thead>\n",
       "    <tr style=\"text-align: right;\">\n",
       "      <th></th>\n",
       "      <th>id</th>\n",
       "      <th>day</th>\n",
       "      <th>pressure</th>\n",
       "      <th>maxtemp</th>\n",
       "      <th>temparature</th>\n",
       "      <th>mintemp</th>\n",
       "      <th>dewpoint</th>\n",
       "      <th>humidity</th>\n",
       "      <th>cloud</th>\n",
       "      <th>sunshine</th>\n",
       "      <th>winddirection</th>\n",
       "      <th>windspeed</th>\n",
       "      <th>rainfall</th>\n",
       "    </tr>\n",
       "  </thead>\n",
       "  <tbody>\n",
       "    <tr>\n",
       "      <th>0</th>\n",
       "      <td>0</td>\n",
       "      <td>1</td>\n",
       "      <td>1017.4</td>\n",
       "      <td>21.2</td>\n",
       "      <td>20.6</td>\n",
       "      <td>19.9</td>\n",
       "      <td>19.4</td>\n",
       "      <td>87.0</td>\n",
       "      <td>88.0</td>\n",
       "      <td>1.1</td>\n",
       "      <td>60.0</td>\n",
       "      <td>17.2</td>\n",
       "      <td>1</td>\n",
       "    </tr>\n",
       "    <tr>\n",
       "      <th>1</th>\n",
       "      <td>1</td>\n",
       "      <td>2</td>\n",
       "      <td>1019.5</td>\n",
       "      <td>16.2</td>\n",
       "      <td>16.9</td>\n",
       "      <td>15.8</td>\n",
       "      <td>15.4</td>\n",
       "      <td>95.0</td>\n",
       "      <td>91.0</td>\n",
       "      <td>0.0</td>\n",
       "      <td>50.0</td>\n",
       "      <td>21.9</td>\n",
       "      <td>1</td>\n",
       "    </tr>\n",
       "    <tr>\n",
       "      <th>2</th>\n",
       "      <td>2</td>\n",
       "      <td>3</td>\n",
       "      <td>1024.1</td>\n",
       "      <td>19.4</td>\n",
       "      <td>16.1</td>\n",
       "      <td>14.6</td>\n",
       "      <td>9.3</td>\n",
       "      <td>75.0</td>\n",
       "      <td>47.0</td>\n",
       "      <td>8.3</td>\n",
       "      <td>70.0</td>\n",
       "      <td>18.1</td>\n",
       "      <td>1</td>\n",
       "    </tr>\n",
       "    <tr>\n",
       "      <th>3</th>\n",
       "      <td>3</td>\n",
       "      <td>4</td>\n",
       "      <td>1013.4</td>\n",
       "      <td>18.1</td>\n",
       "      <td>17.8</td>\n",
       "      <td>16.9</td>\n",
       "      <td>16.8</td>\n",
       "      <td>95.0</td>\n",
       "      <td>95.0</td>\n",
       "      <td>0.0</td>\n",
       "      <td>60.0</td>\n",
       "      <td>35.6</td>\n",
       "      <td>1</td>\n",
       "    </tr>\n",
       "    <tr>\n",
       "      <th>4</th>\n",
       "      <td>4</td>\n",
       "      <td>5</td>\n",
       "      <td>1021.8</td>\n",
       "      <td>21.3</td>\n",
       "      <td>18.4</td>\n",
       "      <td>15.2</td>\n",
       "      <td>9.6</td>\n",
       "      <td>52.0</td>\n",
       "      <td>45.0</td>\n",
       "      <td>3.6</td>\n",
       "      <td>40.0</td>\n",
       "      <td>24.8</td>\n",
       "      <td>0</td>\n",
       "    </tr>\n",
       "  </tbody>\n",
       "</table>\n",
       "</div>"
      ],
      "text/plain": [
       "   id  day  pressure  maxtemp  temparature  mintemp  dewpoint  humidity  \\\n",
       "0   0    1    1017.4     21.2         20.6     19.9      19.4      87.0   \n",
       "1   1    2    1019.5     16.2         16.9     15.8      15.4      95.0   \n",
       "2   2    3    1024.1     19.4         16.1     14.6       9.3      75.0   \n",
       "3   3    4    1013.4     18.1         17.8     16.9      16.8      95.0   \n",
       "4   4    5    1021.8     21.3         18.4     15.2       9.6      52.0   \n",
       "\n",
       "   cloud  sunshine  winddirection  windspeed  rainfall  \n",
       "0   88.0       1.1           60.0       17.2         1  \n",
       "1   91.0       0.0           50.0       21.9         1  \n",
       "2   47.0       8.3           70.0       18.1         1  \n",
       "3   95.0       0.0           60.0       35.6         1  \n",
       "4   45.0       3.6           40.0       24.8         0  "
      ]
     },
     "execution_count": 25,
     "metadata": {},
     "output_type": "execute_result"
    }
   ],
   "source": [
    "df_train_set_pandas = df_train_set.toPandas()\n",
    "df_train_set_pandas.head()"
   ]
  },
  {
   "cell_type": "code",
   "execution_count": 21,
   "metadata": {},
   "outputs": [
    {
     "ename": "TypeError",
     "evalue": "'Column' object is not callable",
     "output_type": "error",
     "traceback": [
      "\u001b[1;31m---------------------------------------------------------------------------\u001b[0m",
      "\u001b[1;31mTypeError\u001b[0m                                 Traceback (most recent call last)",
      "Cell \u001b[1;32mIn[21], line 4\u001b[0m\n\u001b[0;32m      2\u001b[0m \u001b[38;5;28;01mimport\u001b[39;00m \u001b[38;5;21;01mmatplotlib\u001b[39;00m\u001b[38;5;21;01m.\u001b[39;00m\u001b[38;5;21;01mpyplot\u001b[39;00m \u001b[38;5;28;01mas\u001b[39;00m \u001b[38;5;21;01mplt\u001b[39;00m\n\u001b[0;32m      3\u001b[0m plt\u001b[38;5;241m.\u001b[39mfigure(figsize\u001b[38;5;241m=\u001b[39m(\u001b[38;5;241m10\u001b[39m, \u001b[38;5;241m6\u001b[39m))\n\u001b[1;32m----> 4\u001b[0m \u001b[43mplt\u001b[49m\u001b[38;5;241;43m.\u001b[39;49m\u001b[43mbar\u001b[49m\u001b[43m(\u001b[49m\u001b[43mpandas_df\u001b[49m\u001b[43m[\u001b[49m\u001b[38;5;124;43m\"\u001b[39;49m\u001b[38;5;124;43mscaled_features\u001b[39;49m\u001b[38;5;124;43m\"\u001b[39;49m\u001b[43m]\u001b[49m\u001b[43m,\u001b[49m\u001b[43m \u001b[49m\u001b[43mdf_train_set\u001b[49m\u001b[43m[\u001b[49m\u001b[38;5;124;43m\"\u001b[39;49m\u001b[38;5;124;43mrainfall\u001b[39;49m\u001b[38;5;124;43m\"\u001b[39;49m\u001b[43m]\u001b[49m\u001b[43m,\u001b[49m\u001b[43mcolor\u001b[49m\u001b[38;5;241;43m=\u001b[39;49m\u001b[38;5;124;43m\"\u001b[39;49m\u001b[38;5;124;43mblue\u001b[39;49m\u001b[38;5;124;43m\"\u001b[39;49m\u001b[43m)\u001b[49m\n\u001b[0;32m      5\u001b[0m plt\u001b[38;5;241m.\u001b[39mxlabel(\u001b[38;5;124m\"\u001b[39m\u001b[38;5;124mscaled_features\u001b[39m\u001b[38;5;124m\"\u001b[39m)\n\u001b[0;32m      6\u001b[0m plt\u001b[38;5;241m.\u001b[39mylabel(\u001b[38;5;124m\"\u001b[39m\u001b[38;5;124mrainfall\u001b[39m\u001b[38;5;124m\"\u001b[39m)\n",
      "File \u001b[1;32mc:\\Users\\THIS PC\\AppData\\Local\\Programs\\Python\\Python312\\Lib\\site-packages\\matplotlib\\pyplot.py:2742\u001b[0m, in \u001b[0;36mbar\u001b[1;34m(x, height, width, bottom, align, data, **kwargs)\u001b[0m\n\u001b[0;32m   2731\u001b[0m \u001b[38;5;129m@_copy_docstring_and_deprecators\u001b[39m(Axes\u001b[38;5;241m.\u001b[39mbar)\n\u001b[0;32m   2732\u001b[0m \u001b[38;5;28;01mdef\u001b[39;00m \u001b[38;5;21mbar\u001b[39m(\n\u001b[0;32m   2733\u001b[0m     x: \u001b[38;5;28mfloat\u001b[39m \u001b[38;5;241m|\u001b[39m ArrayLike,\n\u001b[1;32m   (...)\u001b[0m\n\u001b[0;32m   2740\u001b[0m     \u001b[38;5;241m*\u001b[39m\u001b[38;5;241m*\u001b[39mkwargs,\n\u001b[0;32m   2741\u001b[0m ) \u001b[38;5;241m-\u001b[39m\u001b[38;5;241m>\u001b[39m BarContainer:\n\u001b[1;32m-> 2742\u001b[0m     \u001b[38;5;28;01mreturn\u001b[39;00m \u001b[43mgca\u001b[49m\u001b[43m(\u001b[49m\u001b[43m)\u001b[49m\u001b[38;5;241;43m.\u001b[39;49m\u001b[43mbar\u001b[49m\u001b[43m(\u001b[49m\n\u001b[0;32m   2743\u001b[0m \u001b[43m        \u001b[49m\u001b[43mx\u001b[49m\u001b[43m,\u001b[49m\n\u001b[0;32m   2744\u001b[0m \u001b[43m        \u001b[49m\u001b[43mheight\u001b[49m\u001b[43m,\u001b[49m\n\u001b[0;32m   2745\u001b[0m \u001b[43m        \u001b[49m\u001b[43mwidth\u001b[49m\u001b[38;5;241;43m=\u001b[39;49m\u001b[43mwidth\u001b[49m\u001b[43m,\u001b[49m\n\u001b[0;32m   2746\u001b[0m \u001b[43m        \u001b[49m\u001b[43mbottom\u001b[49m\u001b[38;5;241;43m=\u001b[39;49m\u001b[43mbottom\u001b[49m\u001b[43m,\u001b[49m\n\u001b[0;32m   2747\u001b[0m \u001b[43m        \u001b[49m\u001b[43malign\u001b[49m\u001b[38;5;241;43m=\u001b[39;49m\u001b[43malign\u001b[49m\u001b[43m,\u001b[49m\n\u001b[0;32m   2748\u001b[0m \u001b[43m        \u001b[49m\u001b[38;5;241;43m*\u001b[39;49m\u001b[38;5;241;43m*\u001b[39;49m\u001b[43m(\u001b[49m\u001b[43m{\u001b[49m\u001b[38;5;124;43m\"\u001b[39;49m\u001b[38;5;124;43mdata\u001b[39;49m\u001b[38;5;124;43m\"\u001b[39;49m\u001b[43m:\u001b[49m\u001b[43m \u001b[49m\u001b[43mdata\u001b[49m\u001b[43m}\u001b[49m\u001b[43m \u001b[49m\u001b[38;5;28;43;01mif\u001b[39;49;00m\u001b[43m \u001b[49m\u001b[43mdata\u001b[49m\u001b[43m \u001b[49m\u001b[38;5;129;43;01mis\u001b[39;49;00m\u001b[43m \u001b[49m\u001b[38;5;129;43;01mnot\u001b[39;49;00m\u001b[43m \u001b[49m\u001b[38;5;28;43;01mNone\u001b[39;49;00m\u001b[43m \u001b[49m\u001b[38;5;28;43;01melse\u001b[39;49;00m\u001b[43m \u001b[49m\u001b[43m{\u001b[49m\u001b[43m}\u001b[49m\u001b[43m)\u001b[49m\u001b[43m,\u001b[49m\n\u001b[0;32m   2749\u001b[0m \u001b[43m        \u001b[49m\u001b[38;5;241;43m*\u001b[39;49m\u001b[38;5;241;43m*\u001b[39;49m\u001b[43mkwargs\u001b[49m\u001b[43m,\u001b[49m\n\u001b[0;32m   2750\u001b[0m \u001b[43m    \u001b[49m\u001b[43m)\u001b[49m\n",
      "File \u001b[1;32mc:\\Users\\THIS PC\\AppData\\Local\\Programs\\Python\\Python312\\Lib\\site-packages\\matplotlib\\__init__.py:1478\u001b[0m, in \u001b[0;36m_preprocess_data.<locals>.inner\u001b[1;34m(ax, data, *args, **kwargs)\u001b[0m\n\u001b[0;32m   1475\u001b[0m \u001b[38;5;129m@functools\u001b[39m\u001b[38;5;241m.\u001b[39mwraps(func)\n\u001b[0;32m   1476\u001b[0m \u001b[38;5;28;01mdef\u001b[39;00m \u001b[38;5;21minner\u001b[39m(ax, \u001b[38;5;241m*\u001b[39margs, data\u001b[38;5;241m=\u001b[39m\u001b[38;5;28;01mNone\u001b[39;00m, \u001b[38;5;241m*\u001b[39m\u001b[38;5;241m*\u001b[39mkwargs):\n\u001b[0;32m   1477\u001b[0m     \u001b[38;5;28;01mif\u001b[39;00m data \u001b[38;5;129;01mis\u001b[39;00m \u001b[38;5;28;01mNone\u001b[39;00m:\n\u001b[1;32m-> 1478\u001b[0m         \u001b[38;5;28;01mreturn\u001b[39;00m \u001b[43mfunc\u001b[49m\u001b[43m(\u001b[49m\u001b[43max\u001b[49m\u001b[43m,\u001b[49m\u001b[43m \u001b[49m\u001b[38;5;241;43m*\u001b[39;49m\u001b[38;5;28;43mmap\u001b[39;49m\u001b[43m(\u001b[49m\u001b[43msanitize_sequence\u001b[49m\u001b[43m,\u001b[49m\u001b[43m \u001b[49m\u001b[43margs\u001b[49m\u001b[43m)\u001b[49m\u001b[43m,\u001b[49m\u001b[43m \u001b[49m\u001b[38;5;241;43m*\u001b[39;49m\u001b[38;5;241;43m*\u001b[39;49m\u001b[43mkwargs\u001b[49m\u001b[43m)\u001b[49m\n\u001b[0;32m   1480\u001b[0m     bound \u001b[38;5;241m=\u001b[39m new_sig\u001b[38;5;241m.\u001b[39mbind(ax, \u001b[38;5;241m*\u001b[39margs, \u001b[38;5;241m*\u001b[39m\u001b[38;5;241m*\u001b[39mkwargs)\n\u001b[0;32m   1481\u001b[0m     auto_label \u001b[38;5;241m=\u001b[39m (bound\u001b[38;5;241m.\u001b[39marguments\u001b[38;5;241m.\u001b[39mget(label_namer)\n\u001b[0;32m   1482\u001b[0m                   \u001b[38;5;129;01mor\u001b[39;00m bound\u001b[38;5;241m.\u001b[39mkwargs\u001b[38;5;241m.\u001b[39mget(label_namer))\n",
      "File \u001b[1;32mc:\\Users\\THIS PC\\AppData\\Local\\Programs\\Python\\Python312\\Lib\\site-packages\\matplotlib\\axes\\_axes.py:2429\u001b[0m, in \u001b[0;36mAxes.bar\u001b[1;34m(self, x, height, width, bottom, align, **kwargs)\u001b[0m\n\u001b[0;32m   2423\u001b[0m         x \u001b[38;5;241m=\u001b[39m \u001b[38;5;241m0\u001b[39m\n\u001b[0;32m   2425\u001b[0m \u001b[38;5;28;01mif\u001b[39;00m orientation \u001b[38;5;241m==\u001b[39m \u001b[38;5;124m'\u001b[39m\u001b[38;5;124mvertical\u001b[39m\u001b[38;5;124m'\u001b[39m:\n\u001b[0;32m   2426\u001b[0m     \u001b[38;5;66;03m# It is possible for y (bottom) to contain unit information.\u001b[39;00m\n\u001b[0;32m   2427\u001b[0m     \u001b[38;5;66;03m# However, it is also possible for y=0 for the default and height\u001b[39;00m\n\u001b[0;32m   2428\u001b[0m     \u001b[38;5;66;03m# to contain unit information.  This will prioritize the units of y.\u001b[39;00m\n\u001b[1;32m-> 2429\u001b[0m     \u001b[38;5;28;43mself\u001b[39;49m\u001b[38;5;241;43m.\u001b[39;49m\u001b[43m_process_unit_info\u001b[49m\u001b[43m(\u001b[49m\n\u001b[0;32m   2430\u001b[0m \u001b[43m        \u001b[49m\u001b[43m[\u001b[49m\u001b[43m(\u001b[49m\u001b[38;5;124;43m\"\u001b[39;49m\u001b[38;5;124;43mx\u001b[39;49m\u001b[38;5;124;43m\"\u001b[39;49m\u001b[43m,\u001b[49m\u001b[43m \u001b[49m\u001b[43mx\u001b[49m\u001b[43m)\u001b[49m\u001b[43m,\u001b[49m\u001b[43m \u001b[49m\u001b[43m(\u001b[49m\u001b[38;5;124;43m\"\u001b[39;49m\u001b[38;5;124;43my\u001b[39;49m\u001b[38;5;124;43m\"\u001b[39;49m\u001b[43m,\u001b[49m\u001b[43m \u001b[49m\u001b[43my\u001b[49m\u001b[43m)\u001b[49m\u001b[43m,\u001b[49m\u001b[43m \u001b[49m\u001b[43m(\u001b[49m\u001b[38;5;124;43m\"\u001b[39;49m\u001b[38;5;124;43my\u001b[39;49m\u001b[38;5;124;43m\"\u001b[39;49m\u001b[43m,\u001b[49m\u001b[43m \u001b[49m\u001b[43mheight\u001b[49m\u001b[43m)\u001b[49m\u001b[43m]\u001b[49m\u001b[43m,\u001b[49m\u001b[43m \u001b[49m\u001b[43mkwargs\u001b[49m\u001b[43m,\u001b[49m\u001b[43m \u001b[49m\u001b[43mconvert\u001b[49m\u001b[38;5;241;43m=\u001b[39;49m\u001b[38;5;28;43;01mFalse\u001b[39;49;00m\u001b[43m)\u001b[49m\n\u001b[0;32m   2431\u001b[0m     \u001b[38;5;28;01mif\u001b[39;00m log:\n\u001b[0;32m   2432\u001b[0m         \u001b[38;5;28mself\u001b[39m\u001b[38;5;241m.\u001b[39mset_yscale(\u001b[38;5;124m'\u001b[39m\u001b[38;5;124mlog\u001b[39m\u001b[38;5;124m'\u001b[39m, nonpositive\u001b[38;5;241m=\u001b[39m\u001b[38;5;124m'\u001b[39m\u001b[38;5;124mclip\u001b[39m\u001b[38;5;124m'\u001b[39m)\n",
      "File \u001b[1;32mc:\\Users\\THIS PC\\AppData\\Local\\Programs\\Python\\Python312\\Lib\\site-packages\\matplotlib\\axes\\_base.py:2555\u001b[0m, in \u001b[0;36m_AxesBase._process_unit_info\u001b[1;34m(self, datasets, kwargs, convert)\u001b[0m\n\u001b[0;32m   2553\u001b[0m     \u001b[38;5;66;03m# Update from data if axis is already set but no unit is set yet.\u001b[39;00m\n\u001b[0;32m   2554\u001b[0m     \u001b[38;5;28;01mif\u001b[39;00m axis \u001b[38;5;129;01mis\u001b[39;00m \u001b[38;5;129;01mnot\u001b[39;00m \u001b[38;5;28;01mNone\u001b[39;00m \u001b[38;5;129;01mand\u001b[39;00m data \u001b[38;5;129;01mis\u001b[39;00m \u001b[38;5;129;01mnot\u001b[39;00m \u001b[38;5;28;01mNone\u001b[39;00m \u001b[38;5;129;01mand\u001b[39;00m \u001b[38;5;129;01mnot\u001b[39;00m axis\u001b[38;5;241m.\u001b[39mhave_units():\n\u001b[1;32m-> 2555\u001b[0m         \u001b[43maxis\u001b[49m\u001b[38;5;241;43m.\u001b[39;49m\u001b[43mupdate_units\u001b[49m\u001b[43m(\u001b[49m\u001b[43mdata\u001b[49m\u001b[43m)\u001b[49m\n\u001b[0;32m   2556\u001b[0m \u001b[38;5;28;01mfor\u001b[39;00m axis_name, axis \u001b[38;5;129;01min\u001b[39;00m axis_map\u001b[38;5;241m.\u001b[39mitems():\n\u001b[0;32m   2557\u001b[0m     \u001b[38;5;66;03m# Return if no axis is set.\u001b[39;00m\n\u001b[0;32m   2558\u001b[0m     \u001b[38;5;28;01mif\u001b[39;00m axis \u001b[38;5;129;01mis\u001b[39;00m \u001b[38;5;28;01mNone\u001b[39;00m:\n",
      "File \u001b[1;32mc:\\Users\\THIS PC\\AppData\\Local\\Programs\\Python\\Python312\\Lib\\site-packages\\matplotlib\\axis.py:1706\u001b[0m, in \u001b[0;36mAxis.update_units\u001b[1;34m(self, data)\u001b[0m\n\u001b[0;32m   1700\u001b[0m \u001b[38;5;28;01mdef\u001b[39;00m \u001b[38;5;21mupdate_units\u001b[39m(\u001b[38;5;28mself\u001b[39m, data):\n\u001b[0;32m   1701\u001b[0m \u001b[38;5;250m    \u001b[39m\u001b[38;5;124;03m\"\"\"\u001b[39;00m\n\u001b[0;32m   1702\u001b[0m \u001b[38;5;124;03m    Introspect *data* for units converter and update the\u001b[39;00m\n\u001b[0;32m   1703\u001b[0m \u001b[38;5;124;03m    ``axis.converter`` instance if necessary. Return *True*\u001b[39;00m\n\u001b[0;32m   1704\u001b[0m \u001b[38;5;124;03m    if *data* is registered for unit conversion.\u001b[39;00m\n\u001b[0;32m   1705\u001b[0m \u001b[38;5;124;03m    \"\"\"\u001b[39;00m\n\u001b[1;32m-> 1706\u001b[0m     converter \u001b[38;5;241m=\u001b[39m \u001b[43mmunits\u001b[49m\u001b[38;5;241;43m.\u001b[39;49m\u001b[43mregistry\u001b[49m\u001b[38;5;241;43m.\u001b[39;49m\u001b[43mget_converter\u001b[49m\u001b[43m(\u001b[49m\u001b[43mdata\u001b[49m\u001b[43m)\u001b[49m\n\u001b[0;32m   1707\u001b[0m     \u001b[38;5;28;01mif\u001b[39;00m converter \u001b[38;5;129;01mis\u001b[39;00m \u001b[38;5;28;01mNone\u001b[39;00m:\n\u001b[0;32m   1708\u001b[0m         \u001b[38;5;28;01mreturn\u001b[39;00m \u001b[38;5;28;01mFalse\u001b[39;00m\n",
      "File \u001b[1;32mc:\\Users\\THIS PC\\AppData\\Local\\Programs\\Python\\Python312\\Lib\\site-packages\\matplotlib\\units.py:167\u001b[0m, in \u001b[0;36mRegistry.get_converter\u001b[1;34m(self, x)\u001b[0m\n\u001b[0;32m    165\u001b[0m \u001b[38;5;250m\u001b[39m\u001b[38;5;124;03m\"\"\"Get the converter interface instance for *x*, or None.\"\"\"\u001b[39;00m\n\u001b[0;32m    166\u001b[0m \u001b[38;5;66;03m# Unpack in case of e.g. Pandas or xarray object\u001b[39;00m\n\u001b[1;32m--> 167\u001b[0m x \u001b[38;5;241m=\u001b[39m \u001b[43mcbook\u001b[49m\u001b[38;5;241;43m.\u001b[39;49m\u001b[43m_unpack_to_numpy\u001b[49m\u001b[43m(\u001b[49m\u001b[43mx\u001b[49m\u001b[43m)\u001b[49m\n\u001b[0;32m    169\u001b[0m \u001b[38;5;28;01mif\u001b[39;00m \u001b[38;5;28misinstance\u001b[39m(x, np\u001b[38;5;241m.\u001b[39mndarray):\n\u001b[0;32m    170\u001b[0m     \u001b[38;5;66;03m# In case x in a masked array, access the underlying data (only its\u001b[39;00m\n\u001b[0;32m    171\u001b[0m     \u001b[38;5;66;03m# type matters).  If x is a regular ndarray, getdata() just returns\u001b[39;00m\n\u001b[0;32m    172\u001b[0m     \u001b[38;5;66;03m# the array itself.\u001b[39;00m\n\u001b[0;32m    173\u001b[0m     x \u001b[38;5;241m=\u001b[39m np\u001b[38;5;241m.\u001b[39mma\u001b[38;5;241m.\u001b[39mgetdata(x)\u001b[38;5;241m.\u001b[39mravel()\n",
      "File \u001b[1;32mc:\\Users\\THIS PC\\AppData\\Local\\Programs\\Python\\Python312\\Lib\\site-packages\\matplotlib\\cbook.py:2316\u001b[0m, in \u001b[0;36m_unpack_to_numpy\u001b[1;34m(x)\u001b[0m\n\u001b[0;32m   2313\u001b[0m     \u001b[38;5;28;01mreturn\u001b[39;00m x\n\u001b[0;32m   2314\u001b[0m \u001b[38;5;28;01mif\u001b[39;00m \u001b[38;5;28mhasattr\u001b[39m(x, \u001b[38;5;124m'\u001b[39m\u001b[38;5;124mto_numpy\u001b[39m\u001b[38;5;124m'\u001b[39m):\n\u001b[0;32m   2315\u001b[0m     \u001b[38;5;66;03m# Assume that any to_numpy() method actually returns a numpy array\u001b[39;00m\n\u001b[1;32m-> 2316\u001b[0m     \u001b[38;5;28;01mreturn\u001b[39;00m \u001b[43mx\u001b[49m\u001b[38;5;241;43m.\u001b[39;49m\u001b[43mto_numpy\u001b[49m\u001b[43m(\u001b[49m\u001b[43m)\u001b[49m\n\u001b[0;32m   2317\u001b[0m \u001b[38;5;28;01mif\u001b[39;00m \u001b[38;5;28mhasattr\u001b[39m(x, \u001b[38;5;124m'\u001b[39m\u001b[38;5;124mvalues\u001b[39m\u001b[38;5;124m'\u001b[39m):\n\u001b[0;32m   2318\u001b[0m     xtmp \u001b[38;5;241m=\u001b[39m x\u001b[38;5;241m.\u001b[39mvalues\n",
      "\u001b[1;31mTypeError\u001b[0m: 'Column' object is not callable"
     ]
    },
    {
     "data": {
      "image/png": "[encoded data removed]",
      "text/plain": [
       "<Figure size 1000x600 with 1 Axes>"
      ]
     },
     "metadata": {},
     "output_type": "display_data"
    }
   ],
   "source": [
    "%matplotlib inline\n",
    "import matplotlib.pyplot as plt\n",
    "plt.figure(figsize=(10, 6))\n",
    "plt.bar(pandas_df[\"scaled_features\"], df_train_set[\"rainfall\"],color=\"blue\")\n",
    "plt.xlabel(\"scaled_features\")\n",
    "plt.ylabel(\"rainfall\")\n",
    "plt.title(\"scaled_features vs rainfall\")\n",
    "plt.show()"
   ]
  },
  {
   "cell_type": "code",
   "execution_count": null,
   "metadata": {},
   "outputs": [],
   "source": []
  },
  {
   "cell_type": "code",
   "execution_count": null,
   "metadata": {},
   "outputs": [],
   "source": []
  },
  {
   "cell_type": "code",
   "execution_count": null,
   "metadata": {},
   "outputs": [],
   "source": []
  }
 ],
 "metadata": {
  "kernelspec": {
   "display_name": "Python 3",
   "language": "python",
   "name": "python3"
  },
  "language_info": {
   "codemirror_mode": {
    "name": "ipython",
    "version": 3
   },
   "file_extension": ".py",
   "mimetype": "text/x-python",
   "name": "python",
   "nbconvert_exporter": "python",
   "pygments_lexer": "ipython3",
   "version": "3.12.1"
  }
 },
 "nbformat": 4,
 "nbformat_minor": 2
}
